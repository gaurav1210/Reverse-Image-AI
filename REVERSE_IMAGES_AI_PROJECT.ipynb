{
  "nbformat": 4,
  "nbformat_minor": 0,
  "metadata": {
    "colab": {
      "name": "( 549396 E ) REVERSE IMAGES AI PROJECT.ipynb",
      "private_outputs": true,
      "provenance": []
    },
    "kernelspec": {
      "name": "python3",
      "display_name": "Python 3"
    },
    "language_info": {
      "name": "python"
    }
  },
  "cells": [
    {
      "cell_type": "markdown",
      "metadata": {
        "id": "C7OJ4lHZHPA8"
      },
      "source": [
        "#### Importing and Installing necessary dependencies"
      ]
    },
    {
      "cell_type": "code",
      "metadata": {
        "id": "_YSLzsUbFY_J"
      },
      "source": [
        "import os\n",
        "import keras\n",
        "import numpy as np\n",
        "import matplotlib.pyplot as plt\n",
        "from scipy.spatial import distance\n",
        "from keras.applications.imagenet_utils import decode_predictions, preprocess_input\n",
        "from keras.preprocessing import image\n",
        "from keras.models import Model\n",
        "from sklearn.decomposition import PCA\n",
        "import random\n",
        "import time"
      ],
      "execution_count": null,
      "outputs": []
    },
    {
      "cell_type": "markdown",
      "metadata": {
        "id": "evIcXAAe-B2z"
      },
      "source": [
        "#### Downloading the dataset from the website but I have already downloaded dataset. So have to only synchronised the dataset folder path name"
      ]
    },
    {
      "cell_type": "code",
      "metadata": {
        "id": "04tqilXYb6Y2"
      },
      "source": [
        "!echo \"Downloading 101_Object_Categories from caltech-101 for imagesearch\"\n",
        "!curl -L -o 101_ObjectCategories.tar.gz --progress-bar http://www.vision.caltech.edu/Image_Datasets/Caltech101/101_ObjectCategories.tar.gz\n",
        "!tar -xzf 101_ObjectCategories.tar.gz\n",
        "!rm 101_ObjectCategories.tar.gz\n",
        "!ls"
      ],
      "execution_count": null,
      "outputs": []
    },
    {
      "cell_type": "markdown",
      "metadata": {
        "id": "s_HBCQzk-XVB"
      },
      "source": [
        "#### Calling the inbuilt trained model of convolution neural netwrok from keras."
      ]
    },
    {
      "cell_type": "code",
      "metadata": {
        "id": "_eigZ86bZzoj"
      },
      "source": [
        "model = keras.applications.VGG16(weights='imagenet',include_top=True)"
      ],
      "execution_count": null,
      "outputs": []
    },
    {
      "cell_type": "code",
      "metadata": {
        "id": "LebExaa8OkQ3"
      },
      "source": [
        "# Cheoking the featuires of traiend model\n",
        "model.summary()"
      ],
      "execution_count": null,
      "outputs": []
    },
    {
      "cell_type": "markdown",
      "metadata": {
        "id": "mhWVSEaS-uMP"
      },
      "source": [
        "#### Checking the our image directory path."
      ]
    },
    {
      "cell_type": "code",
      "metadata": {
        "id": "zYpJPPaTWchq"
      },
      "source": [
        "!ls /content/Rimage.jpeg"
      ],
      "execution_count": null,
      "outputs": []
    },
    {
      "cell_type": "markdown",
      "metadata": {
        "id": "LMVHcj3S-8fR"
      },
      "source": [
        "#### Defining the method for training the model."
      ]
    },
    {
      "cell_type": "code",
      "metadata": {
        "id": "eunC9f6RW2S2"
      },
      "source": [
        "def load_image(path):\n",
        "  img = image.load_img(path, target_size=model.input_shape[1:3])\n",
        "  x = image.img_to_array(img)\n",
        "  x = np.expand_dims(x,axis=0)\n",
        "  x = preprocess_input(x)\n",
        "  return img,x\n"
      ],
      "execution_count": null,
      "outputs": []
    },
    {
      "cell_type": "markdown",
      "metadata": {
        "id": "JOw7KSD3_6od"
      },
      "source": [
        "#### Loading the our images and calling the above defiend method"
      ]
    },
    {
      "cell_type": "code",
      "metadata": {
        "id": "-liyNTZ0X5B8"
      },
      "source": [
        "img,x = load_image(\"/content/Rimage.jpeg\")\n",
        "print(\"shape of x: \",x.shape)\n",
        "print(\"data type: \",x.dtype)\n",
        "plt.imshow(img)"
      ],
      "execution_count": null,
      "outputs": []
    },
    {
      "cell_type": "markdown",
      "metadata": {
        "id": "M62HjV4qAFcp"
      },
      "source": [
        "#### Predicting the image value"
      ]
    },
    {
      "cell_type": "code",
      "metadata": {
        "id": "eusdbBrjYJXy"
      },
      "source": [
        "predictions = model.predict(x)\n",
        "# print(predictions)\n",
        "for _, pred,prob in decode_predictions(predictions)[0]:\n",
        "  print(\"predicted %s with probability %0.3f\" %(pred,prob))"
      ],
      "execution_count": null,
      "outputs": []
    },
    {
      "cell_type": "markdown",
      "metadata": {
        "id": "uD9xzz41ANLG"
      },
      "source": [
        "#### Extracting the features "
      ]
    },
    {
      "cell_type": "code",
      "metadata": {
        "id": "y3HBcy2QYMiP"
      },
      "source": [
        "feat_extractor = Model(inputs=model.input,outputs=model.get_layer(\"fc2\").output)\n",
        "feat_extractor.summary()"
      ],
      "execution_count": null,
      "outputs": []
    },
    {
      "cell_type": "markdown",
      "metadata": {
        "id": "8AQWfEHFAVns"
      },
      "source": [
        "#### Plotting the image graph for features analysis"
      ]
    },
    {
      "cell_type": "code",
      "metadata": {
        "id": "NrQADTO-YQ3H"
      },
      "source": [
        "img,x = load_image(\"/content/Rimage.jpeg\")\n",
        "feat = feat_extractor.predict(x)\n",
        "plt.figure(figsize=(16,4))\n",
        "plt.plot(feat[0])"
      ],
      "execution_count": null,
      "outputs": []
    },
    {
      "cell_type": "markdown",
      "metadata": {
        "id": "HRrPuZp5Ado_"
      },
      "source": [
        "#### Loading and checkig the number of image iterations"
      ]
    },
    {
      "cell_type": "code",
      "metadata": {
        "id": "gawA4ZUiYa2U"
      },
      "source": [
        "images_path = '/content/Rimage.jpeg'\n",
        "image_extensions=['.jpg','.png','.jpeg']\n",
        "#keep the number less than 30 if running on cpu for faster results\n",
        "max_num_images = 1000\n",
        "tick = time.time()\n",
        "# dp has the root directory,dn has the sub directories and filenames has the file name\n",
        "images = '/content/Rimage.jpeg'\n",
        "#images = [os.path.join(dp,f) for dp,dn,filenames in os.walk('/content/Rimage.jpeg') for f in filenames if os.path.splitext(f)[1].lower() in image_extensions]\n",
        "if max_num_images<len(images):\n",
        "#get random images from the image paths\n",
        "  images = [images[i] for i in sorted(random.sample(range(len(images)),max_num_images))] #comment this and uncomment the below line if running on cpu to get better matches\n",
        "#images = images[0:max_num_images]\n",
        "print(\"keeping %d images to analyze\" %len(images))"
      ],
      "execution_count": null,
      "outputs": []
    },
    {
      "cell_type": "markdown",
      "metadata": {
        "id": "qWmlBn96A22l"
      },
      "source": [
        "#### Image analysing process"
      ]
    },
    {
      "cell_type": "code",
      "metadata": {
        "id": "bgKGf2kVYf0j"
      },
      "source": [
        "tic = time.time()\n",
        "features = []\n",
        "for i, image_path in enumerate(images):\n",
        " if i%500 == 0:\n",
        "    toc = time.time()\n",
        "    elap = toc-tic;\n",
        "    print(\"analyzing image %d / %d. Time taken : %4.4f seconds\"%(i,len(images),elap))\n",
        "    tic= time.time()\n",
        " img,x = load_image('/content/Rimage.jpeg')\n",
        " feat = feat_extractor.predict(x)[0]\n",
        " features.append(feat)\n",
        "print('finished extracting features for %d images' % len(images))"
      ],
      "execution_count": null,
      "outputs": []
    },
    {
      "cell_type": "markdown",
      "metadata": {
        "id": "7DISDyivA-IB"
      },
      "source": [
        "#### Principal component analysis"
      ]
    },
    {
      "cell_type": "code",
      "metadata": {
        "id": "MGUctEA7ZUQd"
      },
      "source": [
        "features = np.array(features)\n",
        "pca = PCA(n_components=20)\n",
        "pca.fit(features)"
      ],
      "execution_count": null,
      "outputs": []
    },
    {
      "cell_type": "code",
      "metadata": {
        "id": "RI2uGrsW4l3A"
      },
      "source": [
        "pca_features = pca.transform(features)"
      ],
      "execution_count": null,
      "outputs": []
    },
    {
      "cell_type": "markdown",
      "metadata": {
        "id": "QWZ1XEXaBGCl"
      },
      "source": [
        "#### Plotting the PCA of image"
      ]
    },
    {
      "cell_type": "code",
      "metadata": {
        "id": "95RuCWz24xpQ"
      },
      "source": [
        "plt.plot(pca_features[2])"
      ],
      "execution_count": null,
      "outputs": []
    },
    {
      "cell_type": "markdown",
      "metadata": {
        "id": "LxkqMLq_BNCr"
      },
      "source": [
        "#### Checking the clock time"
      ]
    },
    {
      "cell_type": "code",
      "metadata": {
        "id": "r_XmKIqX4x1M"
      },
      "source": [
        "tock = time.time()\n",
        "print(tock-tick)"
      ],
      "execution_count": null,
      "outputs": []
    },
    {
      "cell_type": "code",
      "metadata": {
        "id": "ElEhCK8u47B6"
      },
      "source": [
        "def get_closest_images(query_image_idx, num_results=5):\n",
        "    distances = [ distance.cosine(pca_features[query_image_idx], feat) for feat in pca_features ]\n",
        "    idx_closest = sorted(range(len(distances)), key=lambda k: distances[k])[1:num_results+1]\n",
        "    return idx_closest"
      ],
      "execution_count": null,
      "outputs": []
    },
    {
      "cell_type": "markdown",
      "metadata": {
        "id": "ldXy6RsEBgSS"
      },
      "source": [
        "#### Defining the closet image and model buling and matching"
      ]
    },
    {
      "cell_type": "code",
      "metadata": {
        "id": "L8iw5ARa47I6"
      },
      "source": [
        "def get_concatenated_images(indexes, thumb_height):\n",
        "    thumbs = []\n",
        "    for idx in indexes:\n",
        "        img = image.load_img(images[idx])\n",
        "        img = img.resize((int(img.width * thumb_height / img.height), thumb_height))\n",
        "        thumbs.append(img)\n",
        "    concat_image = np.concatenate([np.asarray(t) for t in thumbs], axis=1)\n",
        "    return concat_image"
      ],
      "execution_count": null,
      "outputs": []
    },
    {
      "cell_type": "markdown",
      "metadata": {
        "id": "_ICL4aWJBqTy"
      },
      "source": [
        "#### Plotting the reverse image tarined model of our image dataset"
      ]
    },
    {
      "cell_type": "code",
      "metadata": {
        "id": "iAawCzXs5FYL"
      },
      "source": [
        "import random\n",
        "query_image_idx = int(len(images)*random.random())\n",
        "idx_closest = get_closest_images(query_image_idx)\n",
        "#query_image = get_concatenated_images([query_image_idx],20)\n",
        "#results_image = get_concatenated_images(idx_closest,20)\n",
        "\n",
        "plt.figure(figsize=(5,5))\n",
        "plt.imshow(img)\n",
        "plt.title(\"query image(%d)\" %query_image_idx)\n",
        "\n",
        "plt.figure(figsize=(16,22))\n",
        "plt.imshow(img)\n",
        "plt.title(\"Result images\")"
      ],
      "execution_count": null,
      "outputs": []
    }
  ]
}